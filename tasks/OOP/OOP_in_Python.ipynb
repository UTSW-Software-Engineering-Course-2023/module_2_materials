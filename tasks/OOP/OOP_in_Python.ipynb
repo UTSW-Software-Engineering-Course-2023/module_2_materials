{
 "cells": [
  {
   "cell_type": "code",
   "execution_count": 12,
   "id": "cbc94970",
   "metadata": {},
   "outputs": [],
   "source": [
    "class Person(object):\n",
    "    #constructor\n",
    "    def __init__(self, name, idnumber):\n",
    "            self.name= name\n",
    "            self.idnumber = idnumber\n",
    "            print(f\"inside the Person constructor\")\n",
    "            \n",
    "    def display(self):\n",
    "            print(f\"\\n\")\n",
    "            print(f\"name {self.name}\")\n",
    "            print(f\"idnumber {self.idnumber}\")\n",
    "            print(f\"------\\n\")\n",
    "\n",
    "                  "
   ]
  },
  {
   "cell_type": "code",
   "execution_count": 13,
   "id": "13716fb3",
   "metadata": {},
   "outputs": [
    {
     "name": "stdout",
     "output_type": "stream",
     "text": [
      "inside the Person constructor\n",
      "inside the Person constructor\n",
      "\n",
      "\n",
      "name Rahul\n",
      "idnumber 8543\n",
      "------\n",
      "\n",
      "\n",
      "\n",
      "name Bob\n",
      "idnumber 9923\n",
      "------\n",
      "\n"
     ]
    }
   ],
   "source": [
    "# create a person object\n",
    "person1=Person('Rahul', 8543)\n",
    "person2=Person('Bob', 9923)\n",
    "\n",
    "# print the person \n",
    "person1.display()\n",
    "person2.display()"
   ]
  },
  {
   "cell_type": "code",
   "execution_count": 15,
   "id": "6bc3f255",
   "metadata": {},
   "outputs": [
    {
     "name": "stdout",
     "output_type": "stream",
     "text": [
      "person1 name is Rahul\n",
      "person2 name is Bob\n"
     ]
    }
   ],
   "source": [
    "# accessing attributes of an object\n",
    "print(f\"person1 name is {person1.name}\")\n",
    "print(f\"person2 name is {person2.name}\")\n",
    "\n",
    "\n"
   ]
  },
  {
   "cell_type": "code",
   "execution_count": 16,
   "id": "9bf831ed",
   "metadata": {},
   "outputs": [
    {
     "data": {
      "text/plain": [
       "False"
      ]
     },
     "execution_count": 16,
     "metadata": {},
     "output_type": "execute_result"
    }
   ],
   "source": [
    "# testing equality of objects\n",
    "person1==person2\n"
   ]
  },
  {
   "cell_type": "code",
   "execution_count": 17,
   "id": "4df22a10",
   "metadata": {},
   "outputs": [],
   "source": [
    "person3=person1\n"
   ]
  },
  {
   "cell_type": "code",
   "execution_count": 18,
   "id": "e0cfcfaa",
   "metadata": {},
   "outputs": [
    {
     "data": {
      "text/plain": [
       "True"
      ]
     },
     "execution_count": 18,
     "metadata": {},
     "output_type": "execute_result"
    }
   ],
   "source": [
    "person1==person3"
   ]
  },
  {
   "cell_type": "code",
   "execution_count": 19,
   "id": "8f66d395",
   "metadata": {},
   "outputs": [
    {
     "ename": "AttributeError",
     "evalue": "'Person' object has no attribute 'run'",
     "output_type": "error",
     "traceback": [
      "\u001b[0;31m---------------------------------------------------------------------------\u001b[0m",
      "\u001b[0;31mAttributeError\u001b[0m                            Traceback (most recent call last)",
      "Input \u001b[0;32mIn [19]\u001b[0m, in \u001b[0;36m<cell line: 1>\u001b[0;34m()\u001b[0m\n\u001b[0;32m----> 1\u001b[0m \u001b[43mperson1\u001b[49m\u001b[38;5;241;43m.\u001b[39;49m\u001b[43mrun\u001b[49m()\n",
      "\u001b[0;31mAttributeError\u001b[0m: 'Person' object has no attribute 'run'"
     ]
    }
   ],
   "source": [
    "person1.run()"
   ]
  },
  {
   "cell_type": "code",
   "execution_count": null,
   "id": "c71f16fc",
   "metadata": {},
   "outputs": [],
   "source": [
    "# class Person(object):\n",
    "#     #constructor\n",
    "#     def __init__(self, name, idnumber):\n",
    "#             self.name= name\n",
    "#             self.idnumber = idnumber\n",
    "#             print(f\"inside the Person constructor\")\n",
    "            \n",
    "#     def display(self):\n",
    "#             print(f\"\\n\")\n",
    "#             print(f\"name {self.name}\")\n",
    "#             print(f\"idnumber {self.idnumber}\")\n",
    "#             print(f\"------\\n\")\n"
   ]
  },
  {
   "cell_type": "code",
   "execution_count": 50,
   "id": "de3256c9",
   "metadata": {},
   "outputs": [],
   "source": [
    "# subclassing from Person class\n",
    "class Employee(Person):\n",
    "    def __init__(self, name, idnumber, salary, role):\n",
    "        # invoking the __init__ of the parent class\n",
    "        #super(Employee, self).__init__(name, idnumber)\n",
    "        Person.__init__(self, name, idnumber)\n",
    "        \n",
    "        self.salary = salary\n",
    "        self.role = role\n",
    "        print(f\"inside the Employee constructor\")\n",
    "  \n",
    "    def personDetails(self):\n",
    "        print(f\"Person {self.name} has id {self.idnumber} and salary {self.salary} for their role {self.role}\")\n",
    "    "
   ]
  },
  {
   "cell_type": "code",
   "execution_count": 52,
   "id": "6fa9c4b4",
   "metadata": {},
   "outputs": [
    {
     "name": "stdout",
     "output_type": "stream",
     "text": [
      "inside the Person constructor\n",
      "inside the Employee constructor\n",
      "<__main__.Employee object at 0x2aaad4658c40>\n",
      "\n",
      "\n",
      "name Joanna\n",
      "idnumber 8723\n",
      "------\n",
      "\n",
      "Person Joanna has id 8723 and salary 40000 for their role intern\n",
      "==============\n",
      "inside the Person constructor\n",
      "inside the Employee constructor\n",
      "<__main__.Employee object at 0x2aaab7eb4730>\n",
      "\n",
      "\n",
      "name Sam\n",
      "idnumber 8888\n",
      "------\n",
      "\n",
      "Person Sam has id 8888 and salary 38000 for their role intern\n"
     ]
    }
   ],
   "source": [
    "e1=Employee(\"Joanna\", 8723, 40000, \"intern\")\n",
    "print(e1)\n",
    "e1.display()\n",
    "e1.personDetails()\n",
    "print(f\"==============\")\n",
    "# define another person object\n",
    "e2=Employee(\"Sam\", 8888, 38000, \"intern\")\n",
    "print(e2)\n",
    "e2.display()\n",
    "e2.personDetails()"
   ]
  },
  {
   "cell_type": "code",
   "execution_count": 58,
   "id": "1d62ba4a",
   "metadata": {},
   "outputs": [],
   "source": [
    "class Car():\n",
    "    def __init__(self, strColor, strMake, strModel, strLicPlate):\n",
    "        self.strColor=strColor\n",
    "        self.strMake=strMake\n",
    "        self.strModel=strModel\n",
    "        self.strLicPlate=strLicPlate\n",
    "        \n",
    "    def display(self):\n",
    "        print(f'{self.strColor} {self.strMake} {self.strModel} with license {self.strLicPlate} ')"
   ]
  },
  {
   "cell_type": "code",
   "execution_count": 59,
   "id": "57c66b76",
   "metadata": {},
   "outputs": [
    {
     "name": "stdout",
     "output_type": "stream",
     "text": [
      "<__main__.Car object at 0x2aaad490b040>\n",
      "red Honda CRV with license FGT-1090 \n"
     ]
    }
   ],
   "source": [
    "car1=Car('red', 'Honda', 'CRV', 'FGT-1090')\n",
    "print(car1)\n",
    "car1.display()"
   ]
  },
  {
   "cell_type": "code",
   "execution_count": 98,
   "id": "2c2adfd5",
   "metadata": {},
   "outputs": [],
   "source": [
    "# subclassing from Person class\n",
    "class Employee(Person):\n",
    "    def __init__(self, name:str, idnumber:int, salary:int, role:str, car: Car=None):\n",
    "        # invoking the __init__ of the parent class\n",
    "        #super(Employee, self).__init__(name, idnumber)\n",
    "        Person.__init__(self, name, idnumber)\n",
    "        \n",
    "        self.salary = salary\n",
    "        self.role = role\n",
    "        self.companyCar=car\n",
    "        print(f\"inside the Employee constructor\")\n",
    "  \n",
    "    def personDetails(self):\n",
    "        print(f\"Person {self.name} has id {self.idnumber} and salary {self.salary} for their role {self.role}\",\\\n",
    "             end='')\n",
    "        if self.companyCar == None:\n",
    "            print(' and does not drive a company car')\n",
    "        else:\n",
    "            print(f\" and drives company car \", end='')\n",
    "            self.companyCar.display()\n",
    "    \n",
    "    def addCar(self, car: Car):\n",
    "        self.companyCar=car\n",
    "        \n",
    "    def driveCar(self):      \n",
    "        if self.companyCar == None:\n",
    "            print('Error, employee does not have a company car to drive')\n",
    "        else:\n",
    "            print(f\"Driving company car \",end='')\n",
    "            self.companyCar.display()\n",
    "            \n",
    "        "
   ]
  },
  {
   "cell_type": "code",
   "execution_count": 99,
   "id": "06ca2011",
   "metadata": {},
   "outputs": [
    {
     "name": "stdout",
     "output_type": "stream",
     "text": [
      "inside the Person constructor\n",
      "inside the Employee constructor\n",
      "Person Jane has id 9090 and salary 42000 for their role resident and does not drive a company car\n",
      "Error, employee does not have a company car to drive\n",
      "======\n",
      "Person Jane has id 9090 and salary 42000 for their role resident and drives company car red Honda CRV with license FGT-1090 \n",
      "Driving company car red Honda CRV with license FGT-1090 \n"
     ]
    }
   ],
   "source": [
    "e3=Employee('Jane', 9090, 42000, 'resident')\n",
    "e3.personDetails()\n",
    "e3.driveCar()\n",
    "print(\"======\")\n",
    "e3.addCar(car1)\n",
    "e3.personDetails()\n",
    "e3.driveCar()"
   ]
  },
  {
   "cell_type": "code",
   "execution_count": 85,
   "id": "cfc45b76",
   "metadata": {},
   "outputs": [
    {
     "name": "stdout",
     "output_type": "stream",
     "text": [
      "Person Jane has id 9090 and salary 42000 for their role resident\n",
      "and does not drive a company car\n"
     ]
    }
   ],
   "source": []
  },
  {
   "cell_type": "code",
   "execution_count": 86,
   "id": "fe20cd1d",
   "metadata": {},
   "outputs": [],
   "source": [
    "e3.addCar(car1)"
   ]
  },
  {
   "cell_type": "code",
   "execution_count": 87,
   "id": "f6561b35",
   "metadata": {},
   "outputs": [
    {
     "name": "stdout",
     "output_type": "stream",
     "text": [
      "Person Jane has id 9090 and salary 42000 for their role resident\n",
      "and drives company car \n",
      "red Honda CRV with license FGT-1090 \n"
     ]
    }
   ],
   "source": [
    "e3.personDetails()"
   ]
  },
  {
   "cell_type": "code",
   "execution_count": 106,
   "id": "a4b65668",
   "metadata": {},
   "outputs": [],
   "source": [
    "# Illustrate method overriding and polymorpshism\n",
    "class Vehicle:\n",
    "    def drive(self):\n",
    "        print(\"driving, but fuel is undefined.\")\n",
    "        \n",
    "        \n",
    "class FuelCellCar(Vehicle):\n",
    "    def drive(self):\n",
    "        print(\"driving fueled by hydrogen\")\n",
    "        \n",
    "class EVCar(Vehicle):\n",
    "    def drive(self):\n",
    "        print(\"driving fueled by electric charge\")\n",
    "        \n",
    "class CombustionCar(Vehicle):\n",
    "    def drive(self):\n",
    "        print(\"driving fueled by gasoline\")\n",
    "        \n"
   ]
  },
  {
   "cell_type": "code",
   "execution_count": 113,
   "id": "d919654c",
   "metadata": {},
   "outputs": [],
   "source": [
    "c0=FuelCellCar()\n",
    "c1=CombustionCar()\n",
    "c2=FuelCellCar()\n",
    "c3=EVCar()\n",
    "listCars=[c0, c1, c2,c3]\n",
    "\n",
    "def driveCars(myList):\n",
    "    for idx, car in enumerate(myList):\n",
    "        print(f\"Car {idx} is \", end='')\n",
    "        car.drive()\n"
   ]
  },
  {
   "cell_type": "code",
   "execution_count": 114,
   "id": "2de72526",
   "metadata": {},
   "outputs": [
    {
     "name": "stdout",
     "output_type": "stream",
     "text": [
      "Car 0 is driving fueled by hydrogen\n",
      "Car 1 is driving fueled by gasoline\n",
      "Car 2 is driving fueled by hydrogen\n",
      "Car 3 is driving fueled by electric charge\n"
     ]
    }
   ],
   "source": [
    "driveCars(listCars)\n"
   ]
  },
  {
   "cell_type": "code",
   "execution_count": null,
   "id": "678068cb",
   "metadata": {},
   "outputs": [],
   "source": []
  }
 ],
 "metadata": {
  "kernelspec": {
   "display_name": "PracArch_VAE_GAN_env",
   "language": "python",
   "name": "vae_gan_env"
  },
  "language_info": {
   "codemirror_mode": {
    "name": "ipython",
    "version": 3
   },
   "file_extension": ".py",
   "mimetype": "text/x-python",
   "name": "python",
   "nbconvert_exporter": "python",
   "pygments_lexer": "ipython3",
   "version": "3.8.12"
  }
 },
 "nbformat": 4,
 "nbformat_minor": 5
}
