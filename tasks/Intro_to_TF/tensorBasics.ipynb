{
 "cells": [
  {
   "cell_type": "code",
   "execution_count": 1,
   "id": "fa20de9b",
   "metadata": {},
   "outputs": [],
   "source": [
    "import os\n",
    "\n",
    "os.environ[\"TF_CPP_MIN_LOG_LEVEL\"] = \"2\"\n",
    "\n",
    "import tensorflow as tf"
   ]
  },
  {
   "cell_type": "code",
   "execution_count": 2,
   "id": "0455673b",
   "metadata": {},
   "outputs": [
    {
     "name": "stdout",
     "output_type": "stream",
     "text": [
      "[PhysicalDevice(name='/physical_device:GPU:0', device_type='GPU')]\n"
     ]
    }
   ],
   "source": [
    "# export CUDA_VISIBLE_DEVICES=1\n",
    "# os.environ[\"CUDA_VISIBLE_DEVICES\"]=\"1\"\n",
    "gpus = tf.config.list_physical_devices(\"GPU\")\n",
    "print(gpus)\n",
    "tf.config.experimental.set_virtual_device_configuration(gpus[0], \n",
    "[tf.config.experimental.VirtualDeviceConfiguration(memory_limit=3300)])"
   ]
  },
  {
   "cell_type": "code",
   "execution_count": 6,
   "id": "f2e415e0",
   "metadata": {},
   "outputs": [
    {
     "name": "stdout",
     "output_type": "stream",
     "text": [
      "tf.Tensor([[4.]], shape=(1, 1), dtype=float32)\n",
      "tf.Tensor(\n",
      "[[1 2 3]\n",
      " [4 5 6]], shape=(2, 3), dtype=int32)\n",
      "tf.Tensor(\n",
      "[[1. 0. 0.]\n",
      " [0. 1. 0.]\n",
      " [0. 0. 1.]], shape=(3, 3), dtype=float32)\n",
      "tf.Tensor(\n",
      "[[1. 1. 1.]\n",
      " [1. 1. 1.]\n",
      " [1. 1. 1.]\n",
      " [1. 1. 1.]], shape=(4, 3), dtype=float32)\n",
      "tf.Tensor(\n",
      "[[[0. 0. 0. 0. 0.]\n",
      "  [0. 0. 0. 0. 0.]]\n",
      "\n",
      " [[0. 0. 0. 0. 0.]\n",
      "  [0. 0. 0. 0. 0.]]\n",
      "\n",
      " [[0. 0. 0. 0. 0.]\n",
      "  [0. 0. 0. 0. 0.]]], shape=(3, 2, 5), dtype=float32)\n",
      "tf.Tensor(\n",
      "[[0.7361008  0.8921968 ]\n",
      " [0.6271645  0.14847612]], shape=(2, 2), dtype=float32)\n",
      "tf.Tensor(\n",
      "[[ 0.47951019 -0.06018141  0.81822765]\n",
      " [ 0.6314612   0.22162588  1.1098088 ]\n",
      " [-0.85259312  0.36404818  0.50418895]], shape=(3, 3), dtype=float64)\n",
      "tf.Tensor([0 2 4 6 8], shape=(5,), dtype=int32)\n"
     ]
    }
   ],
   "source": [
    "# Initialization\n",
    "x = tf.constant(4, shape=(1, 1), dtype=tf.float32)\n",
    "print(x)\n",
    "\n",
    "x = tf.constant([[1, 2, 3], [4, 5, 6]], shape=(2, 3))\n",
    "print(x)\n",
    "\n",
    "x = tf.eye(3)\n",
    "print(x)\n",
    "\n",
    "x = tf.ones((4, 3))\n",
    "print(x)\n",
    "\n",
    "x = tf.zeros((3, 2, 5))\n",
    "print(x)\n",
    "\n",
    "x = tf.random.uniform((2, 2), minval=0, maxval=1)\n",
    "print(x)\n",
    "\n",
    "x = tf.random.normal((3, 3), mean=0, stddev=1)\n",
    "print(tf.cast(x, dtype=tf.float64))\n",
    "# tf.float (16,32,64), tf.int (8, 16, 32, 64), tf.bool\n",
    "\n",
    "x = tf.range(9)\n",
    "x = tf.range(start=0, limit=10, delta=2)\n",
    "print(x)"
   ]
  },
  {
   "cell_type": "code",
   "execution_count": 8,
   "id": "caf5f3b5",
   "metadata": {},
   "outputs": [
    {
     "name": "stdout",
     "output_type": "stream",
     "text": [
      "x = [1 2 3]\n",
      "y = [9 8 7]\n",
      "x+y = [10 10 10]\n",
      "x-y = [-8 -6 -4]\n",
      "x/y = [0.11111111 0.25       0.42857143]\n",
      "x*y = [ 9 16 21]\n",
      "x dot y  = 46\n",
      "x^5  = [  1  32 243]\n",
      "x @ y  = [[ 1.1985385   2.5683093 ]\n",
      " [ 0.10066936 -0.14050534]]\n",
      "rand normal 2x2 tensor  = [[ 1.1985385   2.5683093 ]\n",
      " [ 0.10066936 -0.14050534]]\n"
     ]
    }
   ],
   "source": [
    "# Math\n",
    "x = tf.constant([1, 2, 3])\n",
    "y = tf.constant([9, 8, 7])\n",
    "\n",
    "print(f\"x = {x}\")\n",
    "print(f\"y = {y}\")\n",
    "\n",
    "z = tf.add(x, y)\n",
    "z = x + y\n",
    "print(f\"x+y = {z}\")\n",
    "\n",
    "z = tf.subtract(x, y)\n",
    "z = x - y\n",
    "print(f\"x-y = {z}\")\n",
    "\n",
    "z = tf.divide(x, y)\n",
    "z = x / y\n",
    "print(f\"x/y = {z}\")\n",
    "\n",
    "z = tf.multiply(x, y)\n",
    "z = x * y\n",
    "print(f\"x*y = {z}\")\n",
    "\n",
    "z = tf.tensordot(x, y, axes=1)\n",
    "print(f\"x dot y  = {z}\")\n",
    "\n",
    "z = x ** 5\n",
    "print(f\"x^5  = {z}\")\n",
    "\n",
    "x = tf.random.normal((2, 3))\n",
    "y = tf.random.normal((3, 2))\n",
    "z = tf.matmul(x, y)\n",
    "z = x @ y\n",
    "print(f\"x @ y  = {z}\")\n",
    "\n",
    "x = tf.random.normal((2, 2))\n",
    "print(f\"rand normal 2x2 tensor  = {z}\")"
   ]
  },
  {
   "cell_type": "code",
   "execution_count": 5,
   "id": "cc43b4e5",
   "metadata": {},
   "outputs": [
    {
     "name": "stdout",
     "output_type": "stream",
     "text": [
      "tf.Tensor([0 1 1 2 3 1 2 3], shape=(8,), dtype=int32)\n",
      "tf.Tensor([1 1 2 3 1 2 3], shape=(7,), dtype=int32)\n",
      "tf.Tensor([1 1], shape=(2,), dtype=int32)\n",
      "tf.Tensor([0 1 3 2], shape=(4,), dtype=int32)\n",
      "tf.Tensor([3 2 1 3 2 1 1 0], shape=(8,), dtype=int32)\n",
      "tf.Tensor([1 2], shape=(2,), dtype=int32)\n",
      "tf.Tensor(\n",
      "[[1 2]\n",
      " [3 4]], shape=(2, 2), dtype=int32)\n"
     ]
    }
   ],
   "source": [
    "# Indexing\n",
    "x = tf.constant([0, 1, 1, 2, 3, 1, 2, 3])\n",
    "print(x[:])\n",
    "print(x[1:])\n",
    "print(x[1:3])\n",
    "print(x[::2])\n",
    "print(x[::-1])\n",
    "\n",
    "indices = tf.constant([0, 3])\n",
    "x_indices = tf.gather(x, indices)\n",
    "\n",
    "x = tf.constant([[1, 2], [3, 4], [5, 6]])\n",
    "\n",
    "print(x[0, :])\n",
    "print(x[0:2, :])"
   ]
  },
  {
   "cell_type": "code",
   "execution_count": 10,
   "id": "e99410c1",
   "metadata": {},
   "outputs": [
    {
     "name": "stdout",
     "output_type": "stream",
     "text": [
      "x=[0 1 2 3 4 5 6 7 8]\n",
      "x reshaped to 3x3 tensor = \n",
      "[[0 1 2]\n",
      " [3 4 5]\n",
      " [6 7 8]]\n",
      "x transposed = \n",
      "[[0 3 6]\n",
      " [1 4 7]\n",
      " [2 5 8]]\n"
     ]
    }
   ],
   "source": [
    "# Reshaping\n",
    "x = tf.range(9)\n",
    "print(f\"x={x}\")\n",
    "\n",
    "x = tf.reshape(x, (3, 3))\n",
    "print(f\"x reshaped to 3x3 tensor = \\n{x}\")\n",
    "\n",
    "x = tf.transpose(x, perm=[1, 0])\n",
    "print(f\"x transposed = \\n{x}\")"
   ]
  },
  {
   "cell_type": "code",
   "execution_count": null,
   "id": "d68356de",
   "metadata": {},
   "outputs": [],
   "source": []
  }
 ],
 "metadata": {
  "kernelspec": {
   "display_name": "VAE_GAN_env",
   "language": "python",
   "name": "vae_gan_env"
  },
  "language_info": {
   "codemirror_mode": {
    "name": "ipython",
    "version": 3
   },
   "file_extension": ".py",
   "mimetype": "text/x-python",
   "name": "python",
   "nbconvert_exporter": "python",
   "pygments_lexer": "ipython3",
   "version": "3.8.12"
  }
 },
 "nbformat": 4,
 "nbformat_minor": 5
}
