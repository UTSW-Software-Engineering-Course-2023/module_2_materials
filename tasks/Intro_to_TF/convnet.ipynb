{
 "cells": [
  {
   "cell_type": "code",
   "execution_count": 1,
   "id": "efbc893f",
   "metadata": {},
   "outputs": [],
   "source": [
    "import os\n",
    "\n",
    "os.environ[\"TF_CPP_MIN_LOG_LEVEL\"] = \"2\"\n",
    "\n",
    "import tensorflow as tf\n",
    "from tensorflow import keras\n",
    "from tensorflow.keras import layers\n",
    "from tensorflow.keras.datasets import cifar10"
   ]
  },
  {
   "cell_type": "code",
   "execution_count": 2,
   "id": "097eaa8f",
   "metadata": {},
   "outputs": [
    {
     "name": "stdout",
     "output_type": "stream",
     "text": [
      "[PhysicalDevice(name='/physical_device:GPU:0', device_type='GPU')]\n"
     ]
    }
   ],
   "source": [
    "# export CUDA_VISIBLE_DEVICES=1\n",
    "# os.environ[\"CUDA_VISIBLE_DEVICES\"]=\"1\"\n",
    "gpus = tf.config.list_physical_devices(\"GPU\")\n",
    "print(gpus)\n",
    "tf.config.experimental.set_virtual_device_configuration(gpus[1], \n",
    "[tf.config.experimental.VirtualDeviceConfiguration(memory_limit=3300)])"
   ]
  },
  {
   "cell_type": "code",
   "execution_count": 3,
   "id": "7f00ab3d",
   "metadata": {},
   "outputs": [],
   "source": [
    "(x_train, y_train), (x_test, y_test) = cifar10.load_data()\n",
    "x_train = x_train.astype(\"float32\") / 255.0\n",
    "x_test = x_test.astype(\"float32\") / 255.0\n"
   ]
  },
  {
   "cell_type": "code",
   "execution_count": 4,
   "id": "afef7cfc",
   "metadata": {},
   "outputs": [],
   "source": [
    "model = keras.Sequential(\n",
    "    [\n",
    "        keras.Input(shape=(32, 32, 3)),\n",
    "        layers.Conv2D(32, 3, padding=\"valid\", activation=\"relu\"),\n",
    "        layers.MaxPooling2D(),\n",
    "        layers.Conv2D(64, 3, activation=\"relu\"),\n",
    "        layers.MaxPooling2D(),\n",
    "        layers.Conv2D(128, 3, activation=\"relu\"),\n",
    "        layers.Flatten(),\n",
    "        layers.Dense(64, activation=\"relu\"),\n",
    "        layers.Dense(10),\n",
    "    ]\n",
    ")"
   ]
  },
  {
   "cell_type": "code",
   "execution_count": 5,
   "id": "1fb5c3bd",
   "metadata": {},
   "outputs": [
    {
     "name": "stdout",
     "output_type": "stream",
     "text": [
      "Model: \"sequential\"\n",
      "_________________________________________________________________\n",
      "Layer (type)                 Output Shape              Param #   \n",
      "=================================================================\n",
      "conv2d (Conv2D)              (None, 30, 30, 32)        896       \n",
      "_________________________________________________________________\n",
      "max_pooling2d (MaxPooling2D) (None, 15, 15, 32)        0         \n",
      "_________________________________________________________________\n",
      "conv2d_1 (Conv2D)            (None, 13, 13, 64)        18496     \n",
      "_________________________________________________________________\n",
      "max_pooling2d_1 (MaxPooling2 (None, 6, 6, 64)          0         \n",
      "_________________________________________________________________\n",
      "conv2d_2 (Conv2D)            (None, 4, 4, 128)         73856     \n",
      "_________________________________________________________________\n",
      "flatten (Flatten)            (None, 2048)              0         \n",
      "_________________________________________________________________\n",
      "dense (Dense)                (None, 64)                131136    \n",
      "_________________________________________________________________\n",
      "dense_1 (Dense)              (None, 10)                650       \n",
      "=================================================================\n",
      "Total params: 225,034\n",
      "Trainable params: 225,034\n",
      "Non-trainable params: 0\n",
      "_________________________________________________________________\n",
      "None\n"
     ]
    }
   ],
   "source": [
    "print(model.summary())"
   ]
  },
  {
   "cell_type": "code",
   "execution_count": 6,
   "id": "8e9406a6",
   "metadata": {},
   "outputs": [],
   "source": [
    "model.compile(\n",
    "    loss=keras.losses.SparseCategoricalCrossentropy(from_logits=True),\n",
    "    optimizer=keras.optimizers.Adam(lr=3e-4),\n",
    "    metrics=[\"accuracy\"],\n",
    ")"
   ]
  },
  {
   "cell_type": "code",
   "execution_count": 7,
   "id": "ab4a1d17",
   "metadata": {},
   "outputs": [
    {
     "name": "stdout",
     "output_type": "stream",
     "text": [
      "Epoch 1/10\n",
      "782/782 - 2s - loss: 1.6844 - accuracy: 0.3856\n",
      "Epoch 2/10\n",
      "782/782 - 2s - loss: 1.3288 - accuracy: 0.5254\n",
      "Epoch 3/10\n",
      "782/782 - 2s - loss: 1.1921 - accuracy: 0.5818\n",
      "Epoch 4/10\n",
      "782/782 - 2s - loss: 1.0990 - accuracy: 0.6161\n",
      "Epoch 5/10\n",
      "782/782 - 2s - loss: 1.0199 - accuracy: 0.6448\n",
      "Epoch 6/10\n",
      "782/782 - 2s - loss: 0.9580 - accuracy: 0.6680\n",
      "Epoch 7/10\n",
      "782/782 - 2s - loss: 0.9061 - accuracy: 0.6866\n",
      "Epoch 8/10\n",
      "782/782 - 2s - loss: 0.8595 - accuracy: 0.7017\n",
      "Epoch 9/10\n",
      "782/782 - 2s - loss: 0.8208 - accuracy: 0.7162\n",
      "Epoch 10/10\n",
      "782/782 - 2s - loss: 0.7846 - accuracy: 0.7283\n",
      "157/157 - 0s - loss: 0.8767 - accuracy: 0.6964\n"
     ]
    },
    {
     "data": {
      "text/plain": [
       "[0.876711905002594, 0.696399986743927]"
      ]
     },
     "execution_count": 7,
     "metadata": {},
     "output_type": "execute_result"
    }
   ],
   "source": [
    "model.fit(x_train, y_train, batch_size=64, epochs=10, verbose=2)\n",
    "model.evaluate(x_test, y_test, batch_size=64, verbose=2)"
   ]
  },
  {
   "cell_type": "code",
   "execution_count": 8,
   "id": "47d448c4",
   "metadata": {},
   "outputs": [],
   "source": [
    "def my_model():\n",
    "    inputs = keras.Input(shape=(32, 32, 3))\n",
    "    x = layers.Conv2D(32, 3)(inputs)\n",
    "    x = layers.BatchNormalization()(x)\n",
    "    x = keras.activations.relu(x)\n",
    "    x = layers.MaxPooling2D()(x)\n",
    "    x = layers.Conv2D(64, 3)(x)\n",
    "    x = layers.BatchNormalization()(x)\n",
    "    x = keras.activations.relu(x)\n",
    "    x = layers.MaxPooling2D()(x)\n",
    "    x = layers.Conv2D(128, 3)(x)\n",
    "    x = layers.BatchNormalization()(x)\n",
    "    x = keras.activations.relu(x)\n",
    "    x = layers.Flatten()(x)\n",
    "    x = layers.Dense(64, activation=\"relu\")(x)\n",
    "    outputs = layers.Dense(10)(x)\n",
    "    model = keras.Model(inputs=inputs, outputs=outputs)\n",
    "    return model\n",
    "\n",
    "\n",
    "modelFunc = my_model()\n",
    "modelFunc.compile(\n",
    "    loss=keras.losses.SparseCategoricalCrossentropy(from_logits=True),\n",
    "    optimizer=keras.optimizers.Adam(lr=3e-4),\n",
    "    metrics=[\"accuracy\"],\n",
    ")"
   ]
  },
  {
   "cell_type": "code",
   "execution_count": 9,
   "id": "939241da",
   "metadata": {},
   "outputs": [
    {
     "name": "stdout",
     "output_type": "stream",
     "text": [
      "Model: \"functional_1\"\n",
      "_________________________________________________________________\n",
      "Layer (type)                 Output Shape              Param #   \n",
      "=================================================================\n",
      "input_2 (InputLayer)         [(None, 32, 32, 3)]       0         \n",
      "_________________________________________________________________\n",
      "conv2d_3 (Conv2D)            (None, 30, 30, 32)        896       \n",
      "_________________________________________________________________\n",
      "batch_normalization (BatchNo (None, 30, 30, 32)        128       \n",
      "_________________________________________________________________\n",
      "tf_op_layer_Relu (TensorFlow [(None, 30, 30, 32)]      0         \n",
      "_________________________________________________________________\n",
      "max_pooling2d_2 (MaxPooling2 (None, 15, 15, 32)        0         \n",
      "_________________________________________________________________\n",
      "conv2d_4 (Conv2D)            (None, 13, 13, 64)        18496     \n",
      "_________________________________________________________________\n",
      "batch_normalization_1 (Batch (None, 13, 13, 64)        256       \n",
      "_________________________________________________________________\n",
      "tf_op_layer_Relu_1 (TensorFl [(None, 13, 13, 64)]      0         \n",
      "_________________________________________________________________\n",
      "max_pooling2d_3 (MaxPooling2 (None, 6, 6, 64)          0         \n",
      "_________________________________________________________________\n",
      "conv2d_5 (Conv2D)            (None, 4, 4, 128)         73856     \n",
      "_________________________________________________________________\n",
      "batch_normalization_2 (Batch (None, 4, 4, 128)         512       \n",
      "_________________________________________________________________\n",
      "tf_op_layer_Relu_2 (TensorFl [(None, 4, 4, 128)]       0         \n",
      "_________________________________________________________________\n",
      "flatten_1 (Flatten)          (None, 2048)              0         \n",
      "_________________________________________________________________\n",
      "dense_2 (Dense)              (None, 64)                131136    \n",
      "_________________________________________________________________\n",
      "dense_3 (Dense)              (None, 10)                650       \n",
      "=================================================================\n",
      "Total params: 225,930\n",
      "Trainable params: 225,482\n",
      "Non-trainable params: 448\n",
      "_________________________________________________________________\n",
      "None\n"
     ]
    }
   ],
   "source": [
    "print(modelFunc.summary())"
   ]
  },
  {
   "cell_type": "code",
   "execution_count": 10,
   "id": "f28843ed",
   "metadata": {},
   "outputs": [
    {
     "name": "stdout",
     "output_type": "stream",
     "text": [
      "Epoch 1/10\n",
      "782/782 - 2s - loss: 1.3138 - accuracy: 0.5315\n",
      "Epoch 2/10\n",
      "782/782 - 2s - loss: 0.9516 - accuracy: 0.6677\n",
      "Epoch 3/10\n",
      "782/782 - 2s - loss: 0.7985 - accuracy: 0.7212\n",
      "Epoch 4/10\n",
      "782/782 - 2s - loss: 0.6945 - accuracy: 0.7589\n",
      "Epoch 5/10\n",
      "782/782 - 2s - loss: 0.6099 - accuracy: 0.7874\n",
      "Epoch 6/10\n",
      "782/782 - 2s - loss: 0.5402 - accuracy: 0.8138\n",
      "Epoch 7/10\n",
      "782/782 - 2s - loss: 0.4815 - accuracy: 0.8332\n",
      "Epoch 8/10\n",
      "782/782 - 2s - loss: 0.4221 - accuracy: 0.8560\n",
      "Epoch 9/10\n",
      "782/782 - 2s - loss: 0.3752 - accuracy: 0.8739\n",
      "Epoch 10/10\n",
      "782/782 - 2s - loss: 0.3307 - accuracy: 0.8883\n",
      "157/157 - 0s - loss: 0.8826 - accuracy: 0.7236\n"
     ]
    },
    {
     "data": {
      "text/plain": [
       "[0.8826155066490173, 0.7235999703407288]"
      ]
     },
     "execution_count": 10,
     "metadata": {},
     "output_type": "execute_result"
    }
   ],
   "source": [
    "modelFunc.fit(x_train, y_train, batch_size=64, epochs=10, verbose=2)\n",
    "modelFunc.evaluate(x_test, y_test, batch_size=64, verbose=2)"
   ]
  },
  {
   "cell_type": "code",
   "execution_count": null,
   "id": "d7c6f32a",
   "metadata": {},
   "outputs": [],
   "source": [
    "# To Do:\n",
    "# 1. construct a new class (type) called MyModelSubClass which is a keras.Model, instantiate it, \n",
    "# and then fit the model to the data. \n",
    "#\n",
    "# 2. Now explore: See what kind of accuracy you can get by training longer, \n",
    "# increasing model size, changing the kernel sizes.\n"
   ]
  },
  {
   "cell_type": "code",
   "execution_count": 14,
   "id": "aa6fb05a",
   "metadata": {},
   "outputs": [],
   "source": [
    "class MyModelSubClass(keras.Model):\n",
    "    def __init__(self,name='MyModelSubclass', **kwargs):\n",
    "        # call super (base) class's init\n",
    "        \n",
    "        \n",
    "        # define layers to be used in forward pass\n",
    "        \n",
    "        \n",
    "    def call(self, inputs, training=None):\n",
    "        \n",
    "        # return the prediction\n",
    "        return outputs\n",
    "    \n",
    "    def model(self):\n",
    "        x = keras.Input(shape=(32, 32, 3))\n",
    "        return keras.Model(inputs=[x], outputs=self.call(x))\n"
   ]
  },
  {
   "cell_type": "code",
   "execution_count": 15,
   "id": "e1d7488c",
   "metadata": {},
   "outputs": [],
   "source": [
    "# Instantiate the model\n"
   ]
  },
  {
   "cell_type": "code",
   "execution_count": null,
   "id": "5bec0f9a",
   "metadata": {},
   "outputs": [],
   "source": [
    "# Print a summary of the model\n"
   ]
  },
  {
   "cell_type": "code",
   "execution_count": 19,
   "id": "4731a3ad",
   "metadata": {},
   "outputs": [],
   "source": [
    "# Compile the model\n"
   ]
  },
  {
   "cell_type": "code",
   "execution_count": null,
   "id": "2533fabe",
   "metadata": {},
   "outputs": [],
   "source": [
    "# Fit the model\n"
   ]
  },
  {
   "cell_type": "code",
   "execution_count": null,
   "id": "64e03a53",
   "metadata": {},
   "outputs": [],
   "source": [
    "# Check your model's performance\n"
   ]
  },
  {
   "cell_type": "code",
   "execution_count": null,
   "id": "0abbd291",
   "metadata": {},
   "outputs": [],
   "source": [
    "### Rinse and repeat; this time add more layers. "
   ]
  },
  {
   "cell_type": "code",
   "execution_count": null,
   "id": "09f59fe9",
   "metadata": {},
   "outputs": [],
   "source": [
    "class MyModelSubClass_Layers(keras.Model):\n",
    "    def __init__(self,name='MyModelSubClass_Layers', **kwargs):\n",
    "        # call super (base) class's init\n",
    "        \n",
    "        \n",
    "        # define layers to be used in forward pass\n",
    "        \n",
    "        \n",
    "    def call(self, inputs, training=None):\n",
    "        \n",
    "        # return the prediction\n",
    "        return outputs\n",
    "    \n",
    "    def model(self):\n",
    "        x = keras.Input(shape=(32, 32, 3))\n",
    "        return keras.Model(inputs=[x], outputs=self.call(x))\n"
   ]
  },
  {
   "cell_type": "code",
   "execution_count": null,
   "id": "eb919a8e",
   "metadata": {},
   "outputs": [],
   "source": [
    "# Instantiate the model\n"
   ]
  },
  {
   "cell_type": "code",
   "execution_count": null,
   "id": "bb8adeec",
   "metadata": {},
   "outputs": [],
   "source": [
    "# Print a summary of the model\n"
   ]
  },
  {
   "cell_type": "code",
   "execution_count": null,
   "id": "0df77a68",
   "metadata": {},
   "outputs": [],
   "source": [
    "# Compile the model\n"
   ]
  },
  {
   "cell_type": "code",
   "execution_count": null,
   "id": "ee7a6b07",
   "metadata": {},
   "outputs": [],
   "source": [
    "# Fit the model\n"
   ]
  },
  {
   "cell_type": "code",
   "execution_count": null,
   "id": "5af0b762",
   "metadata": {},
   "outputs": [],
   "source": [
    "# Check your model's performance. How does the performance compare with the smaller model?\n"
   ]
  },
  {
   "cell_type": "code",
   "execution_count": null,
   "id": "311d1b65",
   "metadata": {},
   "outputs": [],
   "source": [
    "### Rinse and repeat; this time change the kernel size. "
   ]
  },
  {
   "cell_type": "code",
   "execution_count": null,
   "id": "41b09dac",
   "metadata": {},
   "outputs": [],
   "source": [
    "class MyModelSubClass_Kernel(keras.Model):\n",
    "    def __init__(self,name='MyModelSubClass_Kernel', **kwargs):\n",
    "        # call super (base) class's init\n",
    "        \n",
    "        \n",
    "        # define layers to be used in forward pass\n",
    "        \n",
    "        \n",
    "    def call(self, inputs, training=None):\n",
    "        \n",
    "        # return the prediction\n",
    "        return outputs\n",
    "    \n",
    "    def model(self):\n",
    "        x = keras.Input(shape=(32, 32, 3))\n",
    "        return keras.Model(inputs=[x], outputs=self.call(x))\n"
   ]
  },
  {
   "cell_type": "code",
   "execution_count": null,
   "id": "f8ccac85",
   "metadata": {},
   "outputs": [],
   "source": [
    "# Instantiate the model\n"
   ]
  },
  {
   "cell_type": "code",
   "execution_count": null,
   "id": "89a5777b",
   "metadata": {},
   "outputs": [],
   "source": [
    "# Print a summary of the model\n"
   ]
  },
  {
   "cell_type": "code",
   "execution_count": null,
   "id": "00cc57fe",
   "metadata": {},
   "outputs": [],
   "source": [
    "# Compile the model\n"
   ]
  },
  {
   "cell_type": "code",
   "execution_count": null,
   "id": "4d7ffc1b",
   "metadata": {},
   "outputs": [],
   "source": [
    "# Fit the model\n"
   ]
  },
  {
   "cell_type": "code",
   "execution_count": null,
   "id": "4f189617",
   "metadata": {},
   "outputs": [],
   "source": [
    "# Check your model's performance. How does the performance compare with the other two models?\n"
   ]
  }
 ],
 "metadata": {
  "kernelspec": {
   "display_name": "VAE_GAN_env",
   "language": "python",
   "name": "vae_gan_env"
  },
  "language_info": {
   "codemirror_mode": {
    "name": "ipython",
    "version": 3
   },
   "file_extension": ".py",
   "mimetype": "text/x-python",
   "name": "python",
   "nbconvert_exporter": "python",
   "pygments_lexer": "ipython3",
   "version": "3.8.12"
  }
 },
 "nbformat": 4,
 "nbformat_minor": 5
}
