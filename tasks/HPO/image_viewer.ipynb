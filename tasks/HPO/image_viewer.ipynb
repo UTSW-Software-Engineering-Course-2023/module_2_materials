{
 "cells": [
  {
   "cell_type": "markdown",
   "metadata": {},
   "source": [
    "Simple tool to interactively view and compare images across training epochs. Set the output directory location below and run the notebook. Drag the slider to view different epochs.\n",
    "\n",
    "This assumes that the reconstruction images are named epoch[nnn]_recons.png and the synthetic images are named epoch[nnn]_fakes.png."
   ]
  },
  {
   "cell_type": "code",
   "execution_count": null,
   "metadata": {},
   "outputs": [],
   "source": [
    "path = '/archive/bioinformatics/DLLab/AustinMarckx/src/git/SWE2023/tasks/HPO/outputs/'\n",
    "output_dir = path + 'mnist_cvaecgan'"
   ]
  },
  {
   "cell_type": "code",
   "execution_count": null,
   "metadata": {},
   "outputs": [],
   "source": [
    "import os\n",
    "import glob\n",
    "from IPython.display import Image, display\n",
    "from ipywidgets import interact, IntSlider"
   ]
  },
  {
   "cell_type": "code",
   "execution_count": null,
   "metadata": {},
   "outputs": [],
   "source": [
    "def show_images(epoch):\n",
    "    recon_path = os.path.join(output_dir, f'epoch{epoch:03d}_recons.png')\n",
    "    fake_path = os.path.join(output_dir, f'epoch{epoch:03d}_fakes.png')\n",
    "    display(Image(recon_path))\n",
    "    display(Image(fake_path))\n",
    "    \n",
    "# Count number of epochs trained\n",
    "recon_paths = glob.glob(os.path.join(output_dir, '*fakes.png'))\n",
    "n_total_epochs = len(recon_paths)\n"
   ]
  },
  {
   "cell_type": "code",
   "execution_count": null,
   "metadata": {},
   "outputs": [
    {
     "data": {
      "application/vnd.jupyter.widget-view+json": {
       "model_id": "d6e526bb1905410d898f6a0a44997e70",
       "version_major": 2,
       "version_minor": 0
      },
      "text/plain": [
       "interactive(children=(IntSlider(value=1, description='epoch', max=3, min=1), Output()), _dom_classes=('widget-…"
      ]
     },
     "metadata": {},
     "output_type": "display_data"
    },
    {
     "data": {
      "text/plain": [
       "<function __main__.show_images(epoch)>"
      ]
     },
     "execution_count": 20,
     "metadata": {},
     "output_type": "execute_result"
    }
   ],
   "source": [
    "interact(show_images, epoch=IntSlider(value=1, min=1, max=n_total_epochs))"
   ]
  }
 ],
 "metadata": {
  "kernelspec": {
   "display_name": "Python 3.8.12",
   "language": "python",
   "name": "python3"
  },
  "language_info": {
   "codemirror_mode": {
    "name": "ipython",
    "version": 3
   },
   "file_extension": ".py",
   "mimetype": "text/x-python",
   "name": "python",
   "nbconvert_exporter": "python",
   "pygments_lexer": "ipython3",
   "version": "3.8.12"
  },
  "orig_nbformat": 4,
  "vscode": {
   "interpreter": {
    "hash": "64b2d1e105140d542cf63259713c4d4eb8cad32273e4da5801ae6d4b4c9359c3"
   }
  }
 },
 "nbformat": 4,
 "nbformat_minor": 2
}
