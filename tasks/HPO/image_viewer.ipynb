{
 "cells": [
  {
   "attachments": {},
   "cell_type": "markdown",
   "metadata": {},
   "source": [
    "Simple tool to interactively view and compare images across training epochs. Set the output directory location below and run the notebook. Drag the slider to view different epochs.\n",
    "\n",
    "This assumes that the reconstruction images are named epoch[nnn]_recons.png and the synthetic images are named epoch[nnn]_fakes.png."
   ]
  },
  {
   "cell_type": "code",
   "execution_count": null,
   "metadata": {},
   "outputs": [],
   "source": [
    "# Insert the absolute path to your output folder here: (doesn't like relative paths for this)\n",
    "# ex: path = '/archive/bioinformatics/DLLab/AustinMarckx/src/git/SWE2023/tasks/HPO/outputs/'\n",
    "path = \"\"\n",
    "model_name = 'cvaecgan'\n",
    "output_dir = path + 'mnist_hpo_'"
   ]
  },
  {
   "cell_type": "code",
   "execution_count": null,
   "metadata": {},
   "outputs": [],
   "source": [
    "import os\n",
    "import glob\n",
    "from IPython.display import Image, display\n",
    "from ipywidgets import interact, IntSlider"
   ]
  },
  {
   "cell_type": "code",
   "execution_count": null,
   "metadata": {},
   "outputs": [],
   "source": [
    "def show_images(epoch, output_dir = output_dir, model_name = model_name):\n",
    "    if model_name not in {'gan', 'cgan'}:\n",
    "        recon_path = os.path.join(output_dir + model_name, f'epoch{epoch:03d}_recons.png')\n",
    "        fake_path = os.path.join(output_dir+ model_name, f'epoch{epoch:03d}_fakes.png')\n",
    "        display(Image(recon_path))\n",
    "        display(Image(fake_path))\n",
    "    else:\n",
    "        fake_path = os.path.join(output_dir + model_name, f'epoch{epoch:03d}_fakes.png')\n",
    "        display(Image(fake_path))\n",
    "    \n",
    "# Count number of epochs trained\n",
    "fakes_paths = glob.glob(os.path.join(output_dir + model_name, '*fakes.png'))\n",
    "n_total_epochs = len(fakes_paths)\n"
   ]
  },
  {
   "cell_type": "code",
   "execution_count": null,
   "metadata": {},
   "outputs": [],
   "source": [
    "interact(show_images, epoch=IntSlider(value=1, min=1, max=n_total_epochs))"
   ]
  }
 ],
 "metadata": {
  "kernelspec": {
   "display_name": "Python 3.8.12",
   "language": "python",
   "name": "python3"
  },
  "language_info": {
   "codemirror_mode": {
    "name": "ipython",
    "version": 3
   },
   "file_extension": ".py",
   "mimetype": "text/x-python",
   "name": "python",
   "nbconvert_exporter": "python",
   "pygments_lexer": "ipython3",
   "version": "3.8.12"
  },
  "orig_nbformat": 4,
  "vscode": {
   "interpreter": {
    "hash": "64b2d1e105140d542cf63259713c4d4eb8cad32273e4da5801ae6d4b4c9359c3"
   }
  }
 },
 "nbformat": 4,
 "nbformat_minor": 2
}
